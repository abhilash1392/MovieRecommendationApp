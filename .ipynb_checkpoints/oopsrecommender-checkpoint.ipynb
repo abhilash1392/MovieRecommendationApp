{
 "cells": [
  {
   "cell_type": "code",
   "execution_count": 1,
   "id": "norwegian-rapid",
   "metadata": {},
   "outputs": [],
   "source": [
    "import pandas as pd \n",
    "import numpy as np \n",
    "import re"
   ]
  },
  {
   "cell_type": "code",
   "execution_count": 71,
   "id": "egyptian-kingdom",
   "metadata": {},
   "outputs": [],
   "source": [
    "def model(name):\n",
    "    # Loading the files in dataframe\n",
    "    df = pd.read_csv('u.data',names=['user_id','item_id','ratings','timestamp'],delimiter='\\t')\n",
    "    movie_name = pd.read_csv('Movie_Id_Titles')\n",
    "    # data manipulation\n",
    "    movie_name['title']= movie_name['title'].apply(lambda x: cleaning_data(x))\n",
    "    df = df.merge(movie_name)\n",
    "    df.drop(['item_id','timestamp'],axis=1,inplace=True)\n",
    "    df_rating = pd.DataFrame(df.groupby('title')['ratings'].mean(),columns=['ratings'])\n",
    "    df_rating['rating_count'] = df.groupby('title')['ratings'].count()\n",
    "    moviemat = df.pivot_table(index='user_id',columns='title',values='ratings',aggfunc=np.mean)\n",
    "    \n",
    "    movie_user_name_rating = moviemat[name]\n",
    "    similar_to_movie_ratings = moviemat.corrwith(movie_user_name_rating)\n",
    "    answer = pd.DataFrame(similar_to_movie_ratings,columns=['Correlation'])\n",
    "    answer = answer.join(df_rating)\n",
    "    answer = answer[answer['rating_count']>100].sort_values('Correlation',ascending=False).head(6)\n",
    "    answer = answer.reset_index()\n",
    "    answer.columns = ['Title','Correlation','Rating','Number of User Ratings']\n",
    "    answer.drop('Correlation',axis=1,inplace=True)\n",
    "    return answer.drop([0])\n",
    "    \n",
    "\n"
   ]
  },
  {
   "cell_type": "code",
   "execution_count": 9,
   "id": "british-civilian",
   "metadata": {},
   "outputs": [],
   "source": [
    "def cleaning_data(x):\n",
    "    x=x[:-7]\n",
    "    return x"
   ]
  },
  {
   "cell_type": "code",
   "execution_count": 73,
   "id": "otherwise-bathroom",
   "metadata": {},
   "outputs": [
    {
     "name": "stderr",
     "output_type": "stream",
     "text": [
      "/home/abhilash/miniconda3/envs/ml/lib/python3.7/site-packages/numpy/lib/function_base.py:2551: RuntimeWarning: Degrees of freedom <= 0 for slice\n",
      "  c = cov(x, y, rowvar)\n",
      "/home/abhilash/miniconda3/envs/ml/lib/python3.7/site-packages/numpy/lib/function_base.py:2480: RuntimeWarning: divide by zero encountered in true_divide\n",
      "  c *= np.true_divide(1, fact)\n"
     ]
    },
    {
     "data": {
      "text/html": [
       "<div>\n",
       "<style scoped>\n",
       "    .dataframe tbody tr th:only-of-type {\n",
       "        vertical-align: middle;\n",
       "    }\n",
       "\n",
       "    .dataframe tbody tr th {\n",
       "        vertical-align: top;\n",
       "    }\n",
       "\n",
       "    .dataframe thead th {\n",
       "        text-align: right;\n",
       "    }\n",
       "</style>\n",
       "<table border=\"1\" class=\"dataframe\">\n",
       "  <thead>\n",
       "    <tr style=\"text-align: right;\">\n",
       "      <th></th>\n",
       "      <th>Title</th>\n",
       "      <th>Rating</th>\n",
       "      <th>Number of User Ratings</th>\n",
       "    </tr>\n",
       "  </thead>\n",
       "  <tbody>\n",
       "    <tr>\n",
       "      <th>1</th>\n",
       "      <td>Pretty Woman</td>\n",
       "      <td>3.323171</td>\n",
       "      <td>164</td>\n",
       "    </tr>\n",
       "    <tr>\n",
       "      <th>2</th>\n",
       "      <td>Michael</td>\n",
       "      <td>3.319328</td>\n",
       "      <td>119</td>\n",
       "    </tr>\n",
       "    <tr>\n",
       "      <th>3</th>\n",
       "      <td>Jungle2Jungle</td>\n",
       "      <td>2.439394</td>\n",
       "      <td>132</td>\n",
       "    </tr>\n",
       "    <tr>\n",
       "      <th>4</th>\n",
       "      <td>Eraser</td>\n",
       "      <td>3.150485</td>\n",
       "      <td>206</td>\n",
       "    </tr>\n",
       "    <tr>\n",
       "      <th>5</th>\n",
       "      <td>Firm, The</td>\n",
       "      <td>3.278146</td>\n",
       "      <td>151</td>\n",
       "    </tr>\n",
       "  </tbody>\n",
       "</table>\n",
       "</div>"
      ],
      "text/plain": [
       "           Title    Rating  Number of User Ratings\n",
       "1   Pretty Woman  3.323171                     164\n",
       "2        Michael  3.319328                     119\n",
       "3  Jungle2Jungle  2.439394                     132\n",
       "4         Eraser  3.150485                     206\n",
       "5      Firm, The  3.278146                     151"
      ]
     },
     "execution_count": 73,
     "metadata": {},
     "output_type": "execute_result"
    }
   ],
   "source": [
    "x=model('Top Gun')\n",
    "x"
   ]
  },
  {
   "cell_type": "code",
   "execution_count": 43,
   "id": "hungarian-permit",
   "metadata": {},
   "outputs": [
    {
     "name": "stdout",
     "output_type": "stream",
     "text": [
      "      item_id title\n",
      "0         NaN   NaN\n",
      "1         NaN   NaN\n",
      "2         NaN   NaN\n",
      "3         NaN   NaN\n",
      "4         NaN   NaN\n",
      "...       ...   ...\n",
      "1677      NaN   NaN\n",
      "1678      NaN   NaN\n",
      "1679      NaN   NaN\n",
      "1680      NaN   NaN\n",
      "1681      NaN   NaN\n",
      "\n",
      "[1682 rows x 2 columns]\n"
     ]
    }
   ],
   "source": []
  }
 ],
 "metadata": {
  "kernelspec": {
   "display_name": "Python 3",
   "language": "python",
   "name": "python3"
  },
  "language_info": {
   "codemirror_mode": {
    "name": "ipython",
    "version": 3
   },
   "file_extension": ".py",
   "mimetype": "text/x-python",
   "name": "python",
   "nbconvert_exporter": "python",
   "pygments_lexer": "ipython3",
   "version": "3.7.6"
  }
 },
 "nbformat": 4,
 "nbformat_minor": 5
}
